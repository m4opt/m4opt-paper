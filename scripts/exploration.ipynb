{
 "cells": [
  {
   "cell_type": "code",
   "execution_count": 1,
   "metadata": {},
   "outputs": [],
   "source": [
    "import warnings\n",
    "warnings.filterwarnings(\"ignore\", \"Wswiglal-redir-stdio\")"
   ]
  },
  {
   "cell_type": "code",
   "execution_count": 2,
   "metadata": {},
   "outputs": [],
   "source": [
    "from pathlib import Path\n",
    "import sqlite3\n",
    "\n",
    "from astropy.coordinates import EarthLocation, ICRS, SkyCoord\n",
    "from astropy.time import Time\n",
    "from astropy.table import QTable, join\n",
    "import astropy_healpix as ah\n",
    "from astropy import units as u\n",
    "from matplotlib import pyplot as plt\n",
    "from matplotlib import patheffects\n",
    "from matplotlib.colors import LinearSegmentedColormap\n",
    "from m4opt.missions import uvex as mission\n",
    "from m4opt.models import observing\n",
    "import ligo.skymap\n",
    "from ligo.skymap.io import read_sky_map\n",
    "import numpy as np\n",
    "import seaborn as sns\n",
    "from scipy import stats\n",
    "import synphot\n",
    "from tqdm.auto import tqdm\n",
    "\n",
    "from rate_stats import format_with_errorbars, poisson_lognormal_rate_quantiles\n",
    "from detection_probability import get_detection_probability_unknown_position, get_detection_probability_known_position\n",
    "\n",
    "ligo.skymap.omp.num_threads = 1"
   ]
  },
  {
   "cell_type": "code",
   "execution_count": 3,
   "metadata": {},
   "outputs": [],
   "source": [
    "base_path = Path('/home/lsinger/lustre/runs_SNR-10')\n",
    "runs = ['O5HLVK', 'O6HLVK']"
   ]
  },
  {
   "cell_type": "code",
   "execution_count": null,
   "metadata": {},
   "outputs": [],
   "source": [
    "# Read summary data for all events\n",
    "event_tables_by_run = {}\n",
    "for run in tqdm(runs):\n",
    "    event_table = join(\n",
    "        QTable.read(base_path / run / 'farah' / 'allsky.dat', format='ascii'),\n",
    "        QTable.read(base_path / run / 'farah' / 'injections.dat', format='ascii'),\n",
    "    )\n",
    "    assert (event_table['coinc_event_id'] == np.arange(len(event_table))).all()\n",
    "    event_tables_by_run[run] = event_table"
   ]
  },
  {
   "cell_type": "code",
   "execution_count": null,
   "metadata": {},
   "outputs": [],
   "source": [
    "# Read all observing plans\n",
    "plans_by_run = {}\n",
    "for run, event_table in event_tables_by_run.items():\n",
    "    plans_by_run[run] = plans = [QTable.read(base_path / run / 'farah' / 'allsky' / f'{i}.ecsv') for i in tqdm(range(len(event_tables_by_run[run])))]\n",
    "\n",
    "    # Save objective values for all plans\n",
    "    event_table['objective_value'] = [plan.meta['objective_value'] for plan in plans]\n",
    "\n",
    "# Get planner arguments (doesn't matter which event)\n",
    "plan_args = {**plans[0].meta['args']}\n",
    "plan_args.pop('skymap')\n",
    "\n",
    "hpx = ah.HEALPix(nside=plan_args['nside'], frame=ICRS(), order='nested')"
   ]
  },
  {
   "cell_type": "code",
   "execution_count": null,
   "metadata": {},
   "outputs": [],
   "source": [
    "for event_table, plans in zip(event_tables_by_run.values(), plans_by_run.values()):\n",
    "    event_table['detection_probability_known_position'] = [\n",
    "        get_detection_probability_known_position(plan, event_row, plan_args)\n",
    "        for plan, event_row in zip(tqdm(plans), event_table)\n",
    "    ]"
   ]
  },
  {
   "cell_type": "code",
   "execution_count": null,
   "metadata": {},
   "outputs": [],
   "source": [
    "for event_table, plans, run in zip(\n",
    "    event_tables_by_run.values(), plans_by_run.values(), plans_by_run.keys()\n",
    "):\n",
    "    event_table['detection_probability_unknown_position'] = [\n",
    "        get_detection_probability_unknown_position(\n",
    "            plan,\n",
    "            read_sky_map(base_path / run / 'farah' / 'allsky' / f'{event_id}.fits', moc=True), plan_args\n",
    "        )\n",
    "        for event_id, plan in enumerate(tqdm(plans))\n",
    "    ]"
   ]
  },
  {
   "cell_type": "code",
   "execution_count": 8,
   "metadata": {},
   "outputs": [],
   "source": [
    "with observing(\n",
    "    observer_location=EarthLocation(0 * u.m, 0 * u.m, 0 * u.m),\n",
    "    target_coord=hpx.healpix_to_skycoord(np.arange(hpx.npix)),\n",
    "    obstime=Time('2025-01-01'),\n",
    "):\n",
    "    limmag = mission.detector.get_limmag(\n",
    "        plan_args['snr'],\n",
    "        min(plan_args['deadline'] - plan_args['delay'], plan_args['exptime_max']),\n",
    "        synphot.SourceSpectrum(synphot.ConstFlux1D, amplitude=0 * u.ABmag), plan_args['bandpass']\n",
    "    ).max()\n",
    "\n",
    "skymap_area_cl = 90\n",
    "min_area = (3.5 * u.deg)**2\n",
    "\n",
    "chisq_ppf = stats.chi2(df=2).ppf\n",
    "area_factor = (chisq_ppf(skymap_area_cl / 100) / chisq_ppf(plan_args['cutoff']))\n",
    "max_area = (area_factor * min_area * (plan_args['deadline'] - plan_args['delay']) / (plan_args['visits'] * plan_args['exptime_min']))\n",
    "max_distance = 10**(0.2 * (limmag.to_value(u.mag) - (plan_args['absmag_mean'] - stats.norm.ppf(1 - plan_args['cutoff']) * plan_args['absmag_stdev']) - 25)) * u.Mpc\n",
    "crossover_distance = max_distance * (min_area / max_area)**.25"
   ]
  },
  {
   "cell_type": "code",
   "execution_count": null,
   "metadata": {},
   "outputs": [],
   "source": [
    "cmap = plt.get_cmap('cool')\n",
    "cmap = LinearSegmentedColormap.from_list('truncated_cool', cmap(np.linspace(1/3, 1)))\n",
    "with plt.style.context('seaborn-v0_8-paper'):\n",
    "    fig = plt.figure(figsize=(7 + 1/3, 3))\n",
    "    gs = plt.GridSpec(1, 3, figure=fig, width_ratios=(1, 1, 0.05), wspace=0.05, bottom=0.2, left=0.1, right=0.925)\n",
    "    ax = fig.add_subplot(gs[0], aspect=0.25)\n",
    "    # fig, axs = plt.subplots(1, 3, sharex=True, sharey=True, tight_layout=True, figsize=(7 + 1/3, 3), subplot_kw=dict(aspect=0.25))\n",
    "    # ax = axs[0]\n",
    "    ax.set_xlim(5e1, 5e3)\n",
    "    ax.set_ylim(5e-2, u.spat.to(u.deg**2))\n",
    "    ax.set_xscale('log')\n",
    "    ax.set_yscale('log')\n",
    "    ax.set_ylabel(f'{skymap_area_cl}% credible area (deg$^2$)')\n",
    "    axs = [ax]\n",
    "    ax = fig.add_subplot(gs[1], sharex=ax, sharey=ax, aspect=0.25)\n",
    "    plt.setp(ax.yaxis.get_ticklabels(), visible=False)\n",
    "    ax.yaxis.get_label().set_visible(False)\n",
    "    axs.append(ax)\n",
    "\n",
    "    for ax, (run, event_table) in zip(axs, event_tables_by_run.items()):\n",
    "        ax.set_xlabel('Luminosity distance (Mpc)')\n",
    "        ax.fill_between(\n",
    "            u.Quantity([ax.get_xlim()[0] * u.Mpc, crossover_distance, max_distance, max_distance, ax.get_xlim()[1] * u.Mpc]).to_value(u.Mpc),\n",
    "            u.Quantity([max_area, max_area, min_area, ax.get_ylim()[0] * u.deg**2, ax.get_ylim()[0] * u.deg**2]).to_value(u.deg**2),\n",
    "            np.tile(ax.get_ylim()[1], 5),\n",
    "            color='gainsboro'\n",
    "        )\n",
    "        ax.scatter('distance', f'area({skymap_area_cl})', s=1, facecolor='silver', edgecolor='none', data=event_table)\n",
    "        scatter = ax.scatter('distance', f'area({skymap_area_cl})', s=event_table['detection_probability_known_position'] * 30, c=event_table['objective_value'], cmap=cmap, vmin=0, vmax=1, data=event_table)\n",
    "        lines, = ax.plot(\n",
    "            u.Quantity([ax.get_xlim()[0] * u.Mpc, crossover_distance, max_distance, max_distance]).to_value(u.Mpc),\n",
    "            u.Quantity([max_area, max_area, min_area, ax.get_ylim()[0] * u.deg**2]).to_value(u.deg**2),\n",
    "            color='tab:blue'\n",
    "        )\n",
    "        kwargs = dict(\n",
    "            color=lines.get_color(),\n",
    "            ha='center',\n",
    "            va='bottom',\n",
    "            rotation_mode='anchor',\n",
    "            linespacing=0.1,\n",
    "            path_effects=[patheffects.withStroke(linewidth=2, foreground='white')],\n",
    "            fontsize=0.8 * plt.rcParams['axes.labelsize']\n",
    "        )\n",
    "        ax.text(np.sqrt(ax.get_xlim()[0] * crossover_distance.to_value(u.Mpc)), max_area.to_value(u.deg**2), 'Max area\\n', **kwargs)\n",
    "        ax.text(max_distance.to_value(u.Mpc), np.sqrt(ax.get_ylim()[0] * min_area.to_value(u.deg**2)), 'Max distance\\n', rotation=-90, **kwargs)\n",
    "        ax.text(np.sqrt(crossover_distance.to_value(u.Mpc) * max_distance.to_value(u.Mpc)), np.sqrt(min_area.to_value(u.deg**2) * max_area.to_value(u.deg**2)), 'Area $\\propto$ distance$^{-4}$\\n', rotation=-45, **kwargs)\n",
    "        ax.set_title(run[:2])\n",
    "    cbar = plt.colorbar(scatter, cax=fig.add_subplot(gs[2]))\n",
    "    cbar.set_label('Objective value', rotation=-90, va='bottom')\n",
    "    fig.savefig('../figures/area-distance.pdf')"
   ]
  },
  {
   "cell_type": "code",
   "execution_count": null,
   "metadata": {},
   "outputs": [],
   "source": [
    "log_simulation_effective_rate_by_run = {}\n",
    "for run in runs:\n",
    "    with sqlite3.connect(f\"file:{base_path / run / 'farah' / 'events.sqlite'}?mode=ro\", uri=True) as db:\n",
    "        (comment,), = db.execute(\"SELECT comment FROM process WHERE program = 'bayestar-inject'\")\n",
    "    log_simulation_effective_rate_by_run[run] = np.log(u.Quantity(comment).to_value(u.Gpc**-3 * u.yr**-1))\n",
    "log_simulation_effective_rate_by_run"
   ]
  },
  {
   "cell_type": "code",
   "execution_count": null,
   "metadata": {},
   "outputs": [],
   "source": [
    "# O3 R&P paper Table II row 1 last column:\n",
    "# 5%, 50%, and 95% quantiles of the total merger rate\n",
    "# in Gpc^-3 yr^-1.\n",
    "# See https://doi.org/10.1103/PhysRevX.13.011048\n",
    "lo = 100\n",
    "mid = 240\n",
    "hi = 510\n",
    "\n",
    "standard_90pct_interval, = np.diff(stats.norm.interval(0.9))\n",
    "log_target_rate_mu = np.log(mid)\n",
    "log_target_rate_sigma = np.log(hi / lo) / standard_90pct_interval\n",
    "log_target_rate_mu, log_target_rate_sigma"
   ]
  },
  {
   "cell_type": "code",
   "execution_count": 12,
   "metadata": {},
   "outputs": [],
   "source": [
    "prob_quantiles = np.asarray([0.5, 0.05, 0.95])\n",
    "run_duration = 1.5  # years\n",
    "mu = np.asarray([\n",
    "    log_target_rate_mu + np.log(run_duration) - log_simulation_effective_rate_by_run[run] + np.log([\n",
    "        np.sum(_) for _ in [\n",
    "            event_tables_by_run[run]['objective_value'] > 0,\n",
    "            event_tables_by_run[run]['detection_probability_known_position'],\n",
    "        ]\n",
    "    ]) for run in runs\n",
    "])\n",
    "\n",
    "rate_quantiles = poisson_lognormal_rate_quantiles(prob_quantiles[np.newaxis, np.newaxis, :], mu.T[:, :, np.newaxis], log_target_rate_sigma)\n",
    "\n",
    "with open('../tables/selected-detected.tex', 'w') as f:\n",
    "    for i, (label, row) in enumerate(zip(['Number of events selected', 'Number of events detected'], rate_quantiles)):\n",
    "        print(label, *('${}_{{-{}}}^{{+{}}}$'.format(*format_with_errorbars(*col)) for col in row), sep=' & ', end=' \\\\\\\\\\n' if i < len(runs) - 1 else '\\n', file=f)"
   ]
  },
  {
   "cell_type": "code",
   "execution_count": null,
   "metadata": {},
   "outputs": [],
   "source": [
    "colors = sns.color_palette('Paired')\n",
    "xlabels = [run[:2] for run in runs]\n",
    "\n",
    "ax = plt.axes()\n",
    "# ax.bar(xlabels, rate_quantiles[0, :, 2])\n",
    "# ax.bar(xlabels, rate_quantiles[0, :, 0])\n",
    "x = np.arange(2)\n",
    "width = 0.4\n",
    "offset = 0.4\n",
    "ax.bar(x, rate_quantiles[0, :, 2], width=width, color=colors[1])\n",
    "ax.bar(x, rate_quantiles[0, :, 1], width=width, color=colors[0])\n",
    "ax.hlines(rate_quantiles[0, :, 0], x - 0.5 * width, x + 0.5 * width, color='black')\n",
    "ax.bar(x + offset, rate_quantiles[1, :, 2], width=width, color=colors[3])\n",
    "ax.bar(x + offset, rate_quantiles[1, :, 1], width=width, color=colors[2])\n",
    "ax.hlines(rate_quantiles[1, :, 0], x + offset - 0.5 * width, x + offset + 0.5 * width, color='black')\n"
   ]
  },
  {
   "cell_type": "code",
   "execution_count": null,
   "metadata": {},
   "outputs": [],
   "source": [
    "ax = plt.axes()\n",
    "x = np.arange(2)\n",
    "width = 0.4\n",
    "ax.bar(x - width / 2, rate_quantiles[0, :, 0], width=width)\n",
    "ax.bar(x + width / 2, rate_quantiles[1, :, 0], width=width)\n",
    "ax.errorbar(x - width / 2, rate_quantiles[0, :, 0], np.vstack((rate_quantiles[0, :, 0] - rate_quantiles[0, :, 1], rate_quantiles[0, :, 2] - rate_quantiles[0, :, 0])), color='k', marker='D', linestyle='none', capsize=10, capthick=plt.rcParams['lines.linewidth'])\n",
    "ax.errorbar(x + width / 2, rate_quantiles[1, :, 0], np.vstack((rate_quantiles[1, :, 0] - rate_quantiles[1, :, 1], rate_quantiles[1, :, 2] - rate_quantiles[1, :, 0])), color='k', marker='D', linestyle='none', capsize=10, capthick=plt.rcParams['lines.linewidth'])\n",
    "ax.set_xticks(x)\n",
    "ax.set_xticklabels([run[:2] for run in runs])"
   ]
  },
  {
   "cell_type": "code",
   "execution_count": null,
   "metadata": {},
   "outputs": [],
   "source": [
    "event_tables = event_tables_by_run['O6HLVK']\n",
    "event_table[(event_table['objective_value'] > 0.5) & (event_table['area(90)'] > 100) & (event_table['distance'] > 200) & (event_table['distance'] < 1000)]"
   ]
  },
  {
   "cell_type": "code",
   "execution_count": null,
   "metadata": {},
   "outputs": [],
   "source": [
    "event_table[\n",
    "    (np.abs(SkyCoord(event_table['longitude'], event_table['latitude'], unit=u.rad).galactic.b.deg) < 25) &\n",
    "    (event_table['detection_probability_unknown_position'] > 0.5) &\n",
    "    (event_table['area(90)'] > 50)\n",
    "]"
   ]
  }
 ],
 "metadata": {
  "kernelspec": {
   "display_name": "m4opt",
   "language": "python",
   "name": "python3"
  },
  "language_info": {
   "codemirror_mode": {
    "name": "ipython",
    "version": 3
   },
   "file_extension": ".py",
   "mimetype": "text/x-python",
   "name": "python",
   "nbconvert_exporter": "python",
   "pygments_lexer": "ipython3",
   "version": "3.11.9"
  }
 },
 "nbformat": 4,
 "nbformat_minor": 2
}
