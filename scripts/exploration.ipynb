{
 "cells": [
  {
   "cell_type": "code",
   "execution_count": 1,
   "metadata": {},
   "outputs": [],
   "source": [
    "import warnings\n",
    "warnings.filterwarnings(\"ignore\", \"Wswiglal-redir-stdio\")\n",
    "\n",
    "from pathlib import Path\n",
    "import sqlite3\n",
    "\n",
    "from astropy.coordinates import Distance, EarthLocation, ICRS\n",
    "from astropy.time import Time\n",
    "from astropy.table import QTable, join, unique\n",
    "import astropy_healpix as ah\n",
    "from astropy import units as u\n",
    "from m4opt.fov import footprint_healpix\n",
    "from matplotlib import pyplot as plt\n",
    "from matplotlib import patheffects\n",
    "from m4opt.missions import uvex as mission\n",
    "from m4opt.models import observing, DustExtinction\n",
    "import ligo.skymap\n",
    "from ligo.skymap import distance\n",
    "from ligo.skymap.io import read_sky_map\n",
    "from ligo.skymap.bayestar import rasterize\n",
    "import numpy as np\n",
    "from scipy import stats\n",
    "import synphot\n",
    "from tqdm.auto import tqdm\n",
    "\n",
    "ligo.skymap.omp.num_threads = 1"
   ]
  },
  {
   "cell_type": "code",
   "execution_count": 2,
   "metadata": {},
   "outputs": [],
   "source": [
    "base_path = Path('/home/lsinger/lustre/runs_SNR-10/O5HLVK/farah')"
   ]
  },
  {
   "cell_type": "code",
   "execution_count": null,
   "metadata": {},
   "outputs": [],
   "source": [
    "# Read summary data for all events\n",
    "event_table = join(\n",
    "    QTable.read(base_path / 'allsky.dat', format='ascii'),\n",
    "    QTable.read(base_path / 'injections.dat', format='ascii'),\n",
    ")\n",
    "assert (event_table['coinc_event_id'] == np.arange(len(event_table))).all()\n",
    "event_table"
   ]
  },
  {
   "cell_type": "code",
   "execution_count": null,
   "metadata": {},
   "outputs": [],
   "source": [
    "# Read all observing plans\n",
    "plans = [QTable.read(base_path / 'allsky' / f'{i}.ecsv') for i in tqdm(range(len(event_table)))]\n",
    "\n",
    "# Save objective values for all plans\n",
    "event_table['objective_value'] = [plan.meta['objective_value'] for plan in plans]\n",
    "\n",
    "# Get planner arguments (doesn't matter which event)\n",
    "plan_args = {**plans[0].meta['args']}\n",
    "plan_args.pop('skymap')\n",
    "\n",
    "# FIXME: not included in output at the moment\n",
    "plan_args['cutoff'] = 0.1\n",
    "\n",
    "hpx = ah.HEALPix(nside=plan_args['nside'], frame=ICRS(), order='nested')"
   ]
  },
  {
   "cell_type": "code",
   "execution_count": null,
   "metadata": {},
   "outputs": [],
   "source": [
    "def get_detection_probability_known_position(plan, event_row):\n",
    "    if len(plan) == 0:\n",
    "        return 0\n",
    "\n",
    "    observations = plan[plan['action'] == 'observe'].filled()\n",
    "    coords = observations['target_coord'].to_table()\n",
    "    coords['i'] = np.arange(len(coords))\n",
    "    i = np.sort(unique(coords, keys=['ra', 'dec'])['i'])\n",
    "    fields = observations[i]\n",
    "\n",
    "    target_ipix = hpx.lonlat_to_healpix(event_row['longitude'] * u.rad, event_row['latitude'] * u.rad)\n",
    "    target_in_field = [target_ipix in footprint for footprint in footprint_healpix(hpx, mission.fov, fields['target_coord'], fields['roll'])]\n",
    "    fields = fields[target_in_field]\n",
    "    if len(fields) == 0:\n",
    "        return 0\n",
    "\n",
    "    with observing(\n",
    "        observer_location=fields['observer_location'],\n",
    "        target_coord=fields['target_coord'],\n",
    "        obstime=(fields['start_time'] + 0.5 * fields['duration'])\n",
    "    ):\n",
    "        spectrum = synphot.SourceSpectrum(synphot.ConstFlux1D, amplitude=0 * u.ABmag) * synphot.SpectralElement(DustExtinction())\n",
    "        limmag = mission.detector.get_limmag(\n",
    "            plan_args['snr'],\n",
    "            fields['duration'],\n",
    "            spectrum,\n",
    "            plan_args['bandpass']\n",
    "        ).max()\n",
    "    lim_absmag = limmag - Distance(event_row['distance'] * u.Mpc).distmod\n",
    "    return stats.norm(loc=plan_args['absmag_mean'], scale=plan_args['absmag_stdev']).cdf(lim_absmag.to_value(u.mag))\n",
    "\n",
    "event_table['detection_probability'] = [get_detection_probability_known_position(plan, event_row) for plan, event_row in zip(tqdm(plans), event_table)]"
   ]
  },
  {
   "cell_type": "code",
   "execution_count": 6,
   "metadata": {},
   "outputs": [],
   "source": [
    "with observing(\n",
    "    observer_location=EarthLocation(0 * u.m, 0 * u.m, 0 * u.m),\n",
    "    target_coord=hpx.healpix_to_skycoord(np.arange(hpx.npix)),\n",
    "    obstime=Time('2025-01-01'),\n",
    "):\n",
    "    limmag = mission.detector.get_limmag(\n",
    "        plan_args['snr'],\n",
    "        min(plan_args['deadline'] - plan_args['delay'], plan_args['exptime_max']),\n",
    "        synphot.SourceSpectrum(synphot.ConstFlux1D, amplitude=0 * u.ABmag), plan_args['bandpass']\n",
    "    ).max()\n",
    "\n",
    "skymap_area_cl = 90\n",
    "min_area = (3.5 * u.deg)**2\n",
    "\n",
    "ppf = stats.chi(df=2).ppf\n",
    "area_factor = (ppf(0.9) / ppf(plan_args['cutoff']))**2\n",
    "max_area = (area_factor * min_area * (plan_args['deadline'] - plan_args['delay']) / (plan_args['visits'] * plan_args['exptime_min']))\n",
    "max_distance = 10**(0.2 * (limmag.to_value(u.mag) - (plan_args['absmag_mean'] - stats.norm.ppf(1 - plan_args['cutoff']) * plan_args['absmag_stdev']) - 25)) * u.Mpc\n",
    "crossover_distance = max_distance * (min_area / max_area)**.25"
   ]
  },
  {
   "cell_type": "code",
   "execution_count": null,
   "metadata": {},
   "outputs": [],
   "source": [
    "fig = plt.figure()\n",
    "ax = plt.axes(aspect=0.25)\n",
    "ax.scatter('distance', f'area({skymap_area_cl})', s=1, facecolor='0.7', edgecolor='none', data=event_table)\n",
    "ax.scatter('distance', f'area({skymap_area_cl})', s=event_table['detection_probability'] * 50, c='objective_value', cmap='cool', vmin=-0.5, vmax=1, edgecolor='none', data=event_table)\n",
    "ax.set_xlim(5e1, 5e3)\n",
    "ax.set_ylim(5e-2, u.spat.to(u.deg**2))\n",
    "lines, = ax.plot(\n",
    "    u.Quantity([ax.get_xlim()[0] * u.Mpc, crossover_distance, max_distance, max_distance]).to_value(u.Mpc),\n",
    "    u.Quantity([max_area, max_area, min_area, ax.get_ylim()[0] * u.deg**2]).to_value(u.deg**2)\n",
    ")\n",
    "kwargs = dict(\n",
    "    color=lines.get_color(),\n",
    "    ha='center',\n",
    "    va='bottom',\n",
    "    rotation_mode='anchor',\n",
    "    path_effects=[patheffects.withStroke(linewidth=2.5, foreground='white')]\n",
    ")\n",
    "ax.text(np.sqrt(ax.get_xlim()[0] * crossover_distance.to_value(u.Mpc)), max_area.to_value(u.deg**2), 'Max area', **kwargs)\n",
    "ax.text(max_distance.to_value(u.Mpc), np.sqrt(ax.get_ylim()[0] * min_area.to_value(u.deg**2)), 'Max distance', rotation=-90, **kwargs)\n",
    "ax.text(np.sqrt(crossover_distance.to_value(u.Mpc) * max_distance.to_value(u.Mpc)), np.sqrt(min_area.to_value(u.deg**2) * max_area.to_value(u.deg**2)), 'Area $\\propto$ distance$^{-4}$', rotation=-45, **kwargs)\n",
    "ax.set_xscale('log')\n",
    "ax.set_yscale('log')\n",
    "ax.set_xlabel('Luminosity distance (Mpc)')\n",
    "ax.set_ylabel(f'{skymap_area_cl}% credible area (deg$^2$)')"
   ]
  },
  {
   "cell_type": "code",
   "execution_count": null,
   "metadata": {},
   "outputs": [],
   "source": [
    "with sqlite3.connect(f\"file:{base_path / 'events.sqlite'}?mode=ro\", uri=True) as db:\n",
    "    (comment,), = db.execute(\"SELECT comment FROM process WHERE program = 'bayestar-inject'\")\n",
    "simulation_effective_rate = u.Quantity(comment)\n",
    "simulation_effective_rate"
   ]
  },
  {
   "cell_type": "code",
   "execution_count": null,
   "metadata": {},
   "outputs": [],
   "source": [
    "target_rate = 240 * u.Gpc**-3 * u.yr**-1\n",
    "(np.sum(event_table['detection_probability']) * target_rate / simulation_effective_rate).to(u.dimensionless_unscaled)"
   ]
  },
  {
   "cell_type": "code",
   "execution_count": null,
   "metadata": {},
   "outputs": [],
   "source": [
    "event_table[(event_table['objective_value'] > 0.5) & (event_table['area(90)'] > 100) & (event_table['distance'] > 200) & (event_table['distance'] < 500)]"
   ]
  },
  {
   "cell_type": "code",
   "execution_count": null,
   "metadata": {},
   "outputs": [],
   "source": [
    "event_id = 800\n",
    "exptimes = np.arange(300, 3700, 100)\n",
    "fixed_exptime_plans = [QTable.read(base_path / 'allsky' / f'{event_id}-exptime-{exptime}s.ecsv') for exptime in tqdm(exptimes)]"
   ]
  },
  {
   "cell_type": "code",
   "execution_count": 23,
   "metadata": {},
   "outputs": [],
   "source": [
    "def get_detection_probability_unknown_position(plan):\n",
    "    if len(plan) == 0:\n",
    "        return 0\n",
    "\n",
    "    skymap_moc = read_sky_map(base_path / 'allsky' / f'{event_id}.fits', moc=True)\n",
    "    skymap = rasterize(skymap_moc, order=ah.nside_to_level(plan_args['nside']))\n",
    "\n",
    "    observations = plan[plan['action'] == 'observe'].filled()\n",
    "    coords = observations['target_coord'].to_table()\n",
    "    coords['i'] = np.arange(len(coords))\n",
    "    i = np.sort(unique(coords, keys=['ra', 'dec'])['i'])\n",
    "    fields = observations[i]\n",
    "\n",
    "    durations = np.zeros(hpx.npix)\n",
    "    for ipix, duration in zip(footprint_healpix(hpx, mission.fov, fields['target_coord'], fields['roll']), fields['duration'].to_value(u.s)):\n",
    "        durations[ipix] = np.maximum(durations[ipix], duration)\n",
    "    skymap['duration'] = durations * u.s\n",
    "    skymap['ipix'] = np.arange(hpx.npix)\n",
    "\n",
    "    skymap = skymap[durations > 0]\n",
    "\n",
    "    with observing(\n",
    "        observer_location=plan['observer_location'][0],\n",
    "        target_coord=hpx.healpix_to_skycoord(skymap['ipix']),\n",
    "        obstime=plan['start_time'][0]\n",
    "    ):\n",
    "        spectrum = synphot.SourceSpectrum(synphot.ConstFlux1D, amplitude=0 * u.ABmag) * synphot.SpectralElement(DustExtinction())\n",
    "        skymap['limmag'] = mission.detector.get_limmag(\n",
    "            plan_args['snr'],\n",
    "            skymap['duration'],\n",
    "            spectrum,\n",
    "            plan_args['bandpass']\n",
    "        )\n",
    "\n",
    "    distmean, diststd, distnorm = distance.parameters_to_moments(skymap['DISTMU'], skymap['DISTSIGMA'])\n",
    "    sigma2_log = np.log1p(np.square(diststd / distmean))\n",
    "    logdistsigma = np.sqrt(sigma2_log)\n",
    "    logdistmu = np.log(distmean) - 0.5 * sigma2_log\n",
    "\n",
    "    absmagmu = plan_args['absmag_mean']\n",
    "    absmagsigma = plan_args['absmag_stdev']\n",
    "    a = 5 / np.log(10)\n",
    "    appmagmu = absmagmu + a * logdistmu + 25\n",
    "    appmagsigma = np.sqrt(np.square(absmagsigma) + np.square(a * logdistsigma))\n",
    "    skymap['appmagmu'] = appmagmu\n",
    "    skymap['appmagsigma'] = appmagsigma\n",
    "    return (skymap['PROB'] * stats.norm(loc=skymap['appmagmu'], scale=skymap['appmagsigma']).cdf(skymap['limmag'])).sum()"
   ]
  },
  {
   "cell_type": "code",
   "execution_count": null,
   "metadata": {},
   "outputs": [],
   "source": [
    "prob_adaptive, *probs = [get_detection_probability_unknown_position(plan) for plan in tqdm([plans[event_id]] + fixed_exptime_plans)]"
   ]
  },
  {
   "cell_type": "code",
   "execution_count": null,
   "metadata": {},
   "outputs": [],
   "source": [
    "ax = plt.axes()\n",
    "ax.plot(exptimes, probs)\n",
    "ax.axhline(prob_adaptive)"
   ]
  }
 ],
 "metadata": {
  "kernelspec": {
   "display_name": "m4opt",
   "language": "python",
   "name": "python3"
  },
  "language_info": {
   "codemirror_mode": {
    "name": "ipython",
    "version": 3
   },
   "file_extension": ".py",
   "mimetype": "text/x-python",
   "name": "python",
   "nbconvert_exporter": "python",
   "pygments_lexer": "ipython3",
   "version": "3.11.9"
  }
 },
 "nbformat": 4,
 "nbformat_minor": 2
}
